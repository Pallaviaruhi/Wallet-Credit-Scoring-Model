{
  "nbformat": 4,
  "nbformat_minor": 0,
  "metadata": {
    "colab": {
      "provenance": []
    },
    "kernelspec": {
      "name": "python3",
      "display_name": "Python 3"
    },
    "language_info": {
      "name": "python"
    }
  },
  "cells": [
    {
      "cell_type": "code",
      "execution_count": 2,
      "metadata": {
        "colab": {
          "base_uri": "https://localhost:8080/"
        },
        "id": "LOcF3NDY96id",
        "outputId": "6b677b48-4517-42fd-a812-87a5bf8e88a2"
      },
      "outputs": [
        {
          "output_type": "stream",
          "name": "stdout",
          "text": [
            "Mounted at /content/drive\n"
          ]
        }
      ],
      "source": [
        "from google.colab import drive\n",
        "drive.mount('/content/drive')"
      ]
    },
    {
      "cell_type": "code",
      "source": [
        "import pandas as pd\n",
        "import numpy as np\n",
        "import matplotlib.pyplot as plt\n",
        "import seaborn as sns"
      ],
      "metadata": {
        "id": "hRYmnPLQHRw2"
      },
      "execution_count": 3,
      "outputs": []
    },
    {
      "cell_type": "code",
      "source": [
        "file_path = '/content/drive/MyDrive/user-wallet-transactions.json'"
      ],
      "metadata": {
        "id": "7HESBWOmHZIN"
      },
      "execution_count": 4,
      "outputs": []
    },
    {
      "cell_type": "code",
      "source": [
        "try:\n",
        "    df = pd.read_json(file_path)\n",
        "    print(f\"Data loaded successfully. Shape: {df.shape}\")\n",
        "except FileNotFoundError:\n",
        "    print(f\"Error: File not found at '{file_path}'. Please check the path.\")\n",
        "    exit()"
      ],
      "metadata": {
        "colab": {
          "base_uri": "https://localhost:8080/"
        },
        "id": "KpKK8XU-HrM1",
        "outputId": "2c2b799d-d7ce-45bf-bad1-b5045367f9c5"
      },
      "execution_count": 6,
      "outputs": [
        {
          "output_type": "stream",
          "name": "stdout",
          "text": [
            "Data loaded successfully. Shape: (100000, 13)\n"
          ]
        }
      ]
    },
    {
      "cell_type": "code",
      "source": [
        "action_data_df = pd.json_normalize(df['actionData'])\n",
        "\n",
        "# Combine actionData columns with the essential top-level columns\n",
        "df_cleaned = pd.concat([\n",
        "    df[['userWallet', 'timestamp']],\n",
        "    action_data_df[['type', 'amount', 'assetSymbol']]\n",
        "], axis=1)\n",
        "\n",
        "# Rename columns for consistency\n",
        "df_cleaned.rename(columns={'userWallet': 'user_id', 'assetSymbol': 'reserve_symbol'}, inplace=True)\n",
        "print(\"Data correctly flattened and combined.\")"
      ],
      "metadata": {
        "colab": {
          "base_uri": "https://localhost:8080/"
        },
        "id": "9PxX1pPXLef9",
        "outputId": "605d1512-c78d-4c6c-a766-36d1add2a8b9"
      },
      "execution_count": 7,
      "outputs": [
        {
          "output_type": "stream",
          "name": "stdout",
          "text": [
            "Data correctly flattened and combined.\n"
          ]
        }
      ]
    },
    {
      "cell_type": "code",
      "source": [
        " #Data Type Conversion\n",
        "df_cleaned['timestamp'] = pd.to_datetime(df_cleaned['timestamp'], unit='s')\n",
        "df_cleaned['amount'] = pd.to_numeric(df_cleaned['amount'], errors='coerce')\n",
        "df_cleaned.dropna(subset=['amount'], inplace=True) # Drop rows where amount couldn't be converted\n",
        "print(\"Converted data types.\")"
      ],
      "metadata": {
        "colab": {
          "base_uri": "https://localhost:8080/"
        },
        "id": "3coPfhU5NKTA",
        "outputId": "0c7fdf10-edc6-40ab-a782-f009474e1c6c"
      },
      "execution_count": 8,
      "outputs": [
        {
          "output_type": "stream",
          "name": "stdout",
          "text": [
            "Converted data types.\n"
          ]
        }
      ]
    },
    {
      "cell_type": "code",
      "source": [
        "user_summary = df_cleaned.pivot_table(\n",
        "    index='user_id',\n",
        "    columns='type',\n",
        "    values='amount',\n",
        "    aggfunc=['count', 'sum'],\n",
        "    fill_value=0\n",
        ")\n",
        "user_summary.columns = ['_'.join(col).strip() for col in user_summary.columns.values]\n"
      ],
      "metadata": {
        "id": "B2KMRoNbNrHs"
      },
      "execution_count": 9,
      "outputs": []
    },
    {
      "cell_type": "code",
      "source": [
        "# Calculating Wallet Age and other features\n",
        "wallet_age = df_cleaned.groupby('user_id')['timestamp'].agg(['min', 'max'])\n",
        "user_summary['wallet_age_days'] = (wallet_age['max'] - wallet_age['min']).dt.days\n",
        "user_summary['unique_assets_used'] = df_cleaned.groupby('user_id')['reserve_symbol'].nunique()\n"
      ],
      "metadata": {
        "id": "fq3vK-KsNrVG"
      },
      "execution_count": 10,
      "outputs": []
    },
    {
      "cell_type": "code",
      "source": [
        "# --- Corrected Ratio Calculations ---\n",
        "\n",
        "# Get columns, substituting a default Series of 0s if they don't exist.\n",
        "# Using 1 as the default for denominators avoids division by zero.\n",
        "sum_repay = user_summary.get('sum_repay', 0)\n",
        "sum_borrow = user_summary.get('sum_borrow', 1)\n",
        "sum_deposit = user_summary.get('sum_deposit', 1)\n",
        "\n",
        "# Calculate repayment ratio\n",
        "user_summary['repayment_ratio'] = (sum_repay / sum_borrow)\n",
        "# Now clean the entire column (Series)\n",
        "user_summary['repayment_ratio'] = user_summary['repayment_ratio'].replace([np.inf, -np.inf], 0).fillna(0)\n",
        "user_summary['repayment_ratio'] = user_summary['repayment_ratio'].apply(lambda x: min(x, 1.0)) # Cap at 100%\n",
        "\n",
        "# Calculate borrow-to-deposit ratio\n",
        "user_summary['borrow_to_deposit_ratio'] = (sum_borrow / sum_deposit)\n",
        "# Clean the entire column\n",
        "user_summary['borrow_to_deposit_ratio'] = user_summary['borrow_to_deposit_ratio'].replace([np.inf, -np.inf], 0).fillna(0)\n",
        "\n",
        "\n",
        "print(\"Ratios calculated successfully.\")\n",
        "print(user_summary[['repayment_ratio', 'borrow_to_deposit_ratio']].head())"
      ],
      "metadata": {
        "colab": {
          "base_uri": "https://localhost:8080/"
        },
        "id": "pMsaKqPMOEyM",
        "outputId": "bf7d15f3-8c70-4e29-e018-4c0365aa0bad"
      },
      "execution_count": 12,
      "outputs": [
        {
          "output_type": "stream",
          "name": "stdout",
          "text": [
            "Ratios calculated successfully.\n",
            "                                            repayment_ratio  \\\n",
            "user_id                                                       \n",
            "0x00000000001accfa9cef68cf5371a23025b6d4b6              0.0   \n",
            "0x000000000051d07a4fb3bd10121a343d85818da6              0.0   \n",
            "0x000000000096026fb41fc39f9875d164bd82e2dc              0.0   \n",
            "0x0000000000e189dd664b9ab08a33c4839953852c              0.0   \n",
            "0x0000000002032370b971dabd36d72f3e5a7bf1ee              0.0   \n",
            "\n",
            "                                            borrow_to_deposit_ratio  \n",
            "user_id                                                              \n",
            "0x00000000001accfa9cef68cf5371a23025b6d4b6                      1.0  \n",
            "0x000000000051d07a4fb3bd10121a343d85818da6                      1.0  \n",
            "0x000000000096026fb41fc39f9875d164bd82e2dc                      1.0  \n",
            "0x0000000000e189dd664b9ab08a33c4839953852c                      1.0  \n",
            "0x0000000002032370b971dabd36d72f3e5a7bf1ee                      1.0  \n"
          ]
        }
      ]
    },
    {
      "cell_type": "code",
      "source": [
        "all_txn_types = ['Deposit', 'Borrow', 'Repay', 'RedeemUnderlying', 'LiquidationCall']\n",
        "for t_type in all_txn_types:\n",
        "    for agg in ['count', 'sum']:\n",
        "        col = f'{agg}_{t_type}'\n",
        "        if col not in user_summary.columns:\n",
        "            user_summary[col] = 0"
      ],
      "metadata": {
        "id": "93sMJOkbPQXS"
      },
      "execution_count": 13,
      "outputs": []
    },
    {
      "cell_type": "code",
      "source": [
        "print(user_summary.head())"
      ],
      "metadata": {
        "colab": {
          "base_uri": "https://localhost:8080/"
        },
        "id": "KBTwseZgPU5r",
        "outputId": "a735de2d-8693-44b3-9f32-dd793efafcd8"
      },
      "execution_count": 14,
      "outputs": [
        {
          "output_type": "stream",
          "name": "stdout",
          "text": [
            "                                            count_Borrow  count_Deposit  \\\n",
            "user_id                                                                   \n",
            "0x00000000001accfa9cef68cf5371a23025b6d4b6             0              1   \n",
            "0x000000000051d07a4fb3bd10121a343d85818da6             0              1   \n",
            "0x000000000096026fb41fc39f9875d164bd82e2dc             0              2   \n",
            "0x0000000000e189dd664b9ab08a33c4839953852c             0              0   \n",
            "0x0000000002032370b971dabd36d72f3e5a7bf1ee            15            250   \n",
            "\n",
            "                                            count_LiquidationCall  \\\n",
            "user_id                                                             \n",
            "0x00000000001accfa9cef68cf5371a23025b6d4b6                      0   \n",
            "0x000000000051d07a4fb3bd10121a343d85818da6                      0   \n",
            "0x000000000096026fb41fc39f9875d164bd82e2dc                      0   \n",
            "0x0000000000e189dd664b9ab08a33c4839953852c                      0   \n",
            "0x0000000002032370b971dabd36d72f3e5a7bf1ee                      0   \n",
            "\n",
            "                                            count_RedeemUnderlying  \\\n",
            "user_id                                                              \n",
            "0x00000000001accfa9cef68cf5371a23025b6d4b6                       0   \n",
            "0x000000000051d07a4fb3bd10121a343d85818da6                       0   \n",
            "0x000000000096026fb41fc39f9875d164bd82e2dc                       0   \n",
            "0x0000000000e189dd664b9ab08a33c4839953852c                      17   \n",
            "0x0000000002032370b971dabd36d72f3e5a7bf1ee                     130   \n",
            "\n",
            "                                            count_Repay    sum_Borrow  \\\n",
            "user_id                                                                 \n",
            "0x00000000001accfa9cef68cf5371a23025b6d4b6            0  0.000000e+00   \n",
            "0x000000000051d07a4fb3bd10121a343d85818da6            0  0.000000e+00   \n",
            "0x000000000096026fb41fc39f9875d164bd82e2dc            0  0.000000e+00   \n",
            "0x0000000000e189dd664b9ab08a33c4839953852c            0  0.000000e+00   \n",
            "0x0000000002032370b971dabd36d72f3e5a7bf1ee            4  3.946000e+22   \n",
            "\n",
            "                                             sum_Deposit  sum_LiquidationCall  \\\n",
            "user_id                                                                         \n",
            "0x00000000001accfa9cef68cf5371a23025b6d4b6  2.000000e+09                  0.0   \n",
            "0x000000000051d07a4fb3bd10121a343d85818da6  1.450000e+20                  0.0   \n",
            "0x000000000096026fb41fc39f9875d164bd82e2dc  5.000000e+15                  0.0   \n",
            "0x0000000000e189dd664b9ab08a33c4839953852c  0.000000e+00                  0.0   \n",
            "0x0000000002032370b971dabd36d72f3e5a7bf1ee  9.459366e+22                  0.0   \n",
            "\n",
            "                                            sum_RedeemUnderlying  \\\n",
            "user_id                                                            \n",
            "0x00000000001accfa9cef68cf5371a23025b6d4b6          0.000000e+00   \n",
            "0x000000000051d07a4fb3bd10121a343d85818da6          0.000000e+00   \n",
            "0x000000000096026fb41fc39f9875d164bd82e2dc          0.000000e+00   \n",
            "0x0000000000e189dd664b9ab08a33c4839953852c          4.835297e+18   \n",
            "0x0000000002032370b971dabd36d72f3e5a7bf1ee          3.946556e+22   \n",
            "\n",
            "                                               sum_Repay  wallet_age_days  \\\n",
            "user_id                                                                     \n",
            "0x00000000001accfa9cef68cf5371a23025b6d4b6  0.000000e+00                0   \n",
            "0x000000000051d07a4fb3bd10121a343d85818da6  0.000000e+00                0   \n",
            "0x000000000096026fb41fc39f9875d164bd82e2dc  0.000000e+00                7   \n",
            "0x0000000000e189dd664b9ab08a33c4839953852c  0.000000e+00              129   \n",
            "0x0000000002032370b971dabd36d72f3e5a7bf1ee  7.002457e+10              132   \n",
            "\n",
            "                                            unique_assets_used  \\\n",
            "user_id                                                          \n",
            "0x00000000001accfa9cef68cf5371a23025b6d4b6                   1   \n",
            "0x000000000051d07a4fb3bd10121a343d85818da6                   1   \n",
            "0x000000000096026fb41fc39f9875d164bd82e2dc                   1   \n",
            "0x0000000000e189dd664b9ab08a33c4839953852c                   4   \n",
            "0x0000000002032370b971dabd36d72f3e5a7bf1ee                   6   \n",
            "\n",
            "                                            repayment_ratio  \\\n",
            "user_id                                                       \n",
            "0x00000000001accfa9cef68cf5371a23025b6d4b6              0.0   \n",
            "0x000000000051d07a4fb3bd10121a343d85818da6              0.0   \n",
            "0x000000000096026fb41fc39f9875d164bd82e2dc              0.0   \n",
            "0x0000000000e189dd664b9ab08a33c4839953852c              0.0   \n",
            "0x0000000002032370b971dabd36d72f3e5a7bf1ee              0.0   \n",
            "\n",
            "                                            borrow_to_deposit_ratio  \n",
            "user_id                                                              \n",
            "0x00000000001accfa9cef68cf5371a23025b6d4b6                      1.0  \n",
            "0x000000000051d07a4fb3bd10121a343d85818da6                      1.0  \n",
            "0x000000000096026fb41fc39f9875d164bd82e2dc                      1.0  \n",
            "0x0000000000e189dd664b9ab08a33c4839953852c                      1.0  \n",
            "0x0000000002032370b971dabd36d72f3e5a7bf1ee                      1.0  \n"
          ]
        }
      ]
    },
    {
      "cell_type": "code",
      "source": [
        "\n",
        "from sklearn.preprocessing import MinMaxScaler\n",
        "\n",
        "# Starting with a base score for all users\n",
        "user_summary['credit_score'] = 500.0\n",
        "\n",
        "# --- Apply Scoring Rules ---\n",
        "\n",
        "# 1. Heavily penalize liquidations (the biggest sign of risk)\n",
        "user_summary['credit_score'] -= user_summary['count_LiquidationCall'] * 250\n",
        "\n",
        "# 2. Reward users for a long history (log transform to give diminishing returns)\n",
        "user_summary['credit_score'] += np.log1p(user_summary['wallet_age_days']) * 20\n",
        "\n",
        "# 3. Reward users for repaying their loans\n",
        "user_summary['credit_score'] += user_summary['repayment_ratio'] * 150\n",
        "\n",
        "# 4. Penalize users with a high borrow-to-deposit ratio\n",
        "user_summary['credit_score'] -= user_summary['borrow_to_deposit_ratio'] * 100\n",
        "\n",
        "# 5. Reward users for interacting with multiple assets (shows deeper engagement)\n",
        "user_summary['credit_score'] += user_summary['unique_assets_used'] * 10\n"
      ],
      "metadata": {
        "id": "0ez4EeYaV4xF"
      },
      "execution_count": 15,
      "outputs": []
    },
    {
      "cell_type": "code",
      "source": [
        "# This ensures the final scores are standardized\n",
        "scaler = MinMaxScaler(feature_range=(0, 1000))"
      ],
      "metadata": {
        "id": "gH2lOrJCWjJ9"
      },
      "execution_count": 16,
      "outputs": []
    },
    {
      "cell_type": "code",
      "source": [
        "# Reshape the data because the scaler expects a 2D array\n",
        "scores = user_summary['credit_score'].values.reshape(-1, 1)\n",
        "user_summary['final_score'] = scaler.fit_transform(scores)"
      ],
      "metadata": {
        "id": "OHKt_AALWtrM"
      },
      "execution_count": 17,
      "outputs": []
    },
    {
      "cell_type": "code",
      "source": [
        "# Convert to integer for a cleaner look\n",
        "user_summary['final_score'] = user_summary['final_score'].astype(int)"
      ],
      "metadata": {
        "id": "RK4WvBAMWsAg"
      },
      "execution_count": 18,
      "outputs": []
    },
    {
      "cell_type": "code",
      "source": [
        "print(user_summary[[\n",
        "    'count_LiquidationCall',\n",
        "    'wallet_age_days',\n",
        "    'repayment_ratio',\n",
        "    'borrow_to_deposit_ratio',\n",
        "    'final_score'\n",
        "]].sort_values(by='final_score', ascending=False).head(10))"
      ],
      "metadata": {
        "colab": {
          "base_uri": "https://localhost:8080/"
        },
        "id": "3nNzA3igW3rM",
        "outputId": "09dccc8f-51a6-4d9e-fbdc-3c9ed6180a46"
      },
      "execution_count": 19,
      "outputs": [
        {
          "output_type": "stream",
          "name": "stdout",
          "text": [
            "                                            count_LiquidationCall  \\\n",
            "user_id                                                             \n",
            "0x005f16f017aa933bb41965b52848ceb8ee48b171                      0   \n",
            "0x000bc61d0a2dfee19346ad4d1fce2fa3c099e0cb                      0   \n",
            "0x055a875cd844f04a2c2ee1bb72999d7e7b40761d                      0   \n",
            "0x00ab84845d68063c1dcd2a5f2cead5f253b249a2                      0   \n",
            "0x05aeaabd4b221dc741b0213dedc1c2fe3613e2c0                      0   \n",
            "0x00bdc8be263d20bb3a83aaeadfef258dd409e2df                      0   \n",
            "0x010d23b534006f4e4f174a7530d7d9e3c131732a                      0   \n",
            "0x007c4bb067d9b6afeb4c13415477d396123c4aa3                      0   \n",
            "0x02faf4316dcb9330751f3677436aa849aa93851b                      0   \n",
            "0x04ee10fd378f7cad5ac5751d7cd0f42b13ee3b76                      0   \n",
            "\n",
            "                                            wallet_age_days  repayment_ratio  \\\n",
            "user_id                                                                        \n",
            "0x005f16f017aa933bb41965b52848ceb8ee48b171              153              0.0   \n",
            "0x000bc61d0a2dfee19346ad4d1fce2fa3c099e0cb              123              0.0   \n",
            "0x055a875cd844f04a2c2ee1bb72999d7e7b40761d              116              0.0   \n",
            "0x00ab84845d68063c1dcd2a5f2cead5f253b249a2              137              0.0   \n",
            "0x05aeaabd4b221dc741b0213dedc1c2fe3613e2c0              119              0.0   \n",
            "0x00bdc8be263d20bb3a83aaeadfef258dd409e2df              113              0.0   \n",
            "0x010d23b534006f4e4f174a7530d7d9e3c131732a              115              0.0   \n",
            "0x007c4bb067d9b6afeb4c13415477d396123c4aa3              122              0.0   \n",
            "0x02faf4316dcb9330751f3677436aa849aa93851b              117              0.0   \n",
            "0x04ee10fd378f7cad5ac5751d7cd0f42b13ee3b76              134              0.0   \n",
            "\n",
            "                                            borrow_to_deposit_ratio  \\\n",
            "user_id                                                               \n",
            "0x005f16f017aa933bb41965b52848ceb8ee48b171                      1.0   \n",
            "0x000bc61d0a2dfee19346ad4d1fce2fa3c099e0cb                      1.0   \n",
            "0x055a875cd844f04a2c2ee1bb72999d7e7b40761d                      1.0   \n",
            "0x00ab84845d68063c1dcd2a5f2cead5f253b249a2                      1.0   \n",
            "0x05aeaabd4b221dc741b0213dedc1c2fe3613e2c0                      1.0   \n",
            "0x00bdc8be263d20bb3a83aaeadfef258dd409e2df                      1.0   \n",
            "0x010d23b534006f4e4f174a7530d7d9e3c131732a                      1.0   \n",
            "0x007c4bb067d9b6afeb4c13415477d396123c4aa3                      1.0   \n",
            "0x02faf4316dcb9330751f3677436aa849aa93851b                      1.0   \n",
            "0x04ee10fd378f7cad5ac5751d7cd0f42b13ee3b76                      1.0   \n",
            "\n",
            "                                            final_score  \n",
            "user_id                                                  \n",
            "0x005f16f017aa933bb41965b52848ceb8ee48b171         1000  \n",
            "0x000bc61d0a2dfee19346ad4d1fce2fa3c099e0cb          999  \n",
            "0x055a875cd844f04a2c2ee1bb72999d7e7b40761d          999  \n",
            "0x00ab84845d68063c1dcd2a5f2cead5f253b249a2          999  \n",
            "0x05aeaabd4b221dc741b0213dedc1c2fe3613e2c0          999  \n",
            "0x00bdc8be263d20bb3a83aaeadfef258dd409e2df          999  \n",
            "0x010d23b534006f4e4f174a7530d7d9e3c131732a          999  \n",
            "0x007c4bb067d9b6afeb4c13415477d396123c4aa3          999  \n",
            "0x02faf4316dcb9330751f3677436aa849aa93851b          999  \n",
            "0x04ee10fd378f7cad5ac5751d7cd0f42b13ee3b76          999  \n"
          ]
        }
      ]
    },
    {
      "cell_type": "code",
      "source": [
        "plt.figure(figsize=(12, 4))\n",
        "sns.histplot(user_summary['final_score'], bins=20, kde=True)\n",
        "plt.title('Distribution of Credit Scores')\n",
        "plt.xlabel('Final Score')\n",
        "plt.ylabel('Number of Wallets')\n",
        "plt.show()"
      ],
      "metadata": {
        "colab": {
          "base_uri": "https://localhost:8080/",
          "height": 410
        },
        "id": "5v1tSH98dNke",
        "outputId": "1a80c53f-d31d-4c88-f230-5f3bcf9105f7"
      },
      "execution_count": 21,
      "outputs": [
        {
          "output_type": "display_data",
          "data": {
            "text/plain": [
              "<Figure size 1200x400 with 1 Axes>"
            ],
            "image/png": "[encoded data removed]"
          },
          "metadata": {}
        }
      ]
    },
    {
      "cell_type": "code",
      "source": [
        "high_scorers = user_summary[user_summary['final_score'] > 800]\n",
        "print(\"--- High Scorer Profile ---\")\n",
        "print(high_scorers.describe())"
      ],
      "metadata": {
        "colab": {
          "base_uri": "https://localhost:8080/"
        },
        "id": "5iLDtk9qddhI",
        "outputId": "829f2dfb-f190-4df3-b1ba-7566a66ec33d"
      },
      "execution_count": 22,
      "outputs": [
        {
          "output_type": "stream",
          "name": "stdout",
          "text": [
            "--- High Scorer Profile ---\n",
            "       count_Borrow  count_Deposit  count_LiquidationCall  \\\n",
            "count   3491.000000    3491.000000             3491.00000   \n",
            "mean       4.839301      10.775423                0.04841   \n",
            "std       15.018583      29.844333                0.33378   \n",
            "min        0.000000       0.000000                0.00000   \n",
            "25%        0.000000       1.000000                0.00000   \n",
            "50%        0.000000       2.000000                0.00000   \n",
            "75%        3.000000       6.000000                0.00000   \n",
            "max      200.000000     511.000000                5.00000   \n",
            "\n",
            "       count_RedeemUnderlying  count_Repay    sum_Borrow   sum_Deposit  \\\n",
            "count             3491.000000  3491.000000  3.491000e+03  3.491000e+03   \n",
            "mean                 9.234603     3.567459  4.839979e+22  6.299186e+22   \n",
            "std                242.726170    13.325793  9.426494e+23  1.229498e+24   \n",
            "min                  0.000000     0.000000  0.000000e+00  0.000000e+00   \n",
            "25%                  0.000000     0.000000  0.000000e+00  1.052020e+09   \n",
            "50%                  0.000000     0.000000  0.000000e+00  8.468406e+17   \n",
            "75%                  3.000000     2.000000  2.550000e+17  5.595896e+20   \n",
            "max              14265.000000   291.000000  3.496460e+25  5.283732e+25   \n",
            "\n",
            "       sum_LiquidationCall  sum_RedeemUnderlying     sum_Repay  \\\n",
            "count               3491.0          3.491000e+03  3.491000e+03   \n",
            "mean                   0.0          4.612555e+22  2.993574e+22   \n",
            "std                    0.0          1.167619e+24  8.412014e+23   \n",
            "min                    0.0          0.000000e+00  0.000000e+00   \n",
            "25%                    0.0          0.000000e+00  0.000000e+00   \n",
            "50%                    0.0          0.000000e+00  0.000000e+00   \n",
            "75%                    0.0          8.318293e+18  1.690011e+09   \n",
            "max                    0.0          5.287256e+25  3.500300e+25   \n",
            "\n",
            "       wallet_age_days  unique_assets_used  repayment_ratio  \\\n",
            "count      3491.000000         3491.000000           3491.0   \n",
            "mean         21.549413            2.446863              0.0   \n",
            "std          33.160745            1.956028              0.0   \n",
            "min           0.000000            1.000000              0.0   \n",
            "25%           0.000000            1.000000              0.0   \n",
            "50%           2.000000            2.000000              0.0   \n",
            "75%          32.000000            3.000000              0.0   \n",
            "max         153.000000            9.000000              0.0   \n",
            "\n",
            "       borrow_to_deposit_ratio  credit_score  final_score  \n",
            "count                   3491.0   3491.000000  3491.000000  \n",
            "mean                       1.0    446.370649   978.810656  \n",
            "std                        0.0     88.901063    13.656467  \n",
            "min                        1.0   -714.746402   801.000000  \n",
            "25%                        1.0    410.000000   973.000000  \n",
            "50%                        1.0    431.972246   977.000000  \n",
            "75%                        1.0    496.572828   987.000000  \n",
            "max                        1.0    580.739052  1000.000000  \n"
          ]
        }
      ]
    },
    {
      "cell_type": "code",
      "source": [
        "low_scorers = user_summary[user_summary['final_score'] < 200]\n",
        "print(\"\\n--- Low Scorer Profile ---\")\n",
        "print(low_scorers.describe())"
      ],
      "metadata": {
        "colab": {
          "base_uri": "https://localhost:8080/"
        },
        "id": "OeX05ER_fHzl",
        "outputId": "ebe19f1a-b88e-4c47-dbec-b47601a18dda"
      },
      "execution_count": 23,
      "outputs": [
        {
          "output_type": "stream",
          "name": "stdout",
          "text": [
            "\n",
            "--- Low Scorer Profile ---\n",
            "       count_Borrow  count_Deposit  count_LiquidationCall  \\\n",
            "count           1.0            1.0                    1.0   \n",
            "mean          117.0          111.0                   26.0   \n",
            "std             NaN            NaN                    NaN   \n",
            "min           117.0          111.0                   26.0   \n",
            "25%           117.0          111.0                   26.0   \n",
            "50%           117.0          111.0                   26.0   \n",
            "75%           117.0          111.0                   26.0   \n",
            "max           117.0          111.0                   26.0   \n",
            "\n",
            "       count_RedeemUnderlying  count_Repay    sum_Borrow   sum_Deposit  \\\n",
            "count                     1.0          1.0  1.000000e+00  1.000000e+00   \n",
            "mean                     34.0         78.0  1.751633e+21  2.540714e+20   \n",
            "std                       NaN          NaN           NaN           NaN   \n",
            "min                      34.0         78.0  1.751633e+21  2.540714e+20   \n",
            "25%                      34.0         78.0  1.751633e+21  2.540714e+20   \n",
            "50%                      34.0         78.0  1.751633e+21  2.540714e+20   \n",
            "75%                      34.0         78.0  1.751633e+21  2.540714e+20   \n",
            "max                      34.0         78.0  1.751633e+21  2.540714e+20   \n",
            "\n",
            "       sum_LiquidationCall  sum_RedeemUnderlying     sum_Repay  \\\n",
            "count                  1.0          1.000000e+00  1.000000e+00   \n",
            "mean                   0.0          3.051883e+20  1.392093e+21   \n",
            "std                    NaN                   NaN           NaN   \n",
            "min                    0.0          3.051883e+20  1.392093e+21   \n",
            "25%                    0.0          3.051883e+20  1.392093e+21   \n",
            "50%                    0.0          3.051883e+20  1.392093e+21   \n",
            "75%                    0.0          3.051883e+20  1.392093e+21   \n",
            "max                    0.0          3.051883e+20  1.392093e+21   \n",
            "\n",
            "       wallet_age_days  unique_assets_used  repayment_ratio  \\\n",
            "count              1.0                 1.0              1.0   \n",
            "mean              51.0                 6.0              0.0   \n",
            "std                NaN                 NaN              NaN   \n",
            "min               51.0                 6.0              0.0   \n",
            "25%               51.0                 6.0              0.0   \n",
            "50%               51.0                 6.0              0.0   \n",
            "75%               51.0                 6.0              0.0   \n",
            "max               51.0                 6.0              0.0   \n",
            "\n",
            "       borrow_to_deposit_ratio  credit_score  final_score  \n",
            "count                      1.0      1.000000          1.0  \n",
            "mean                       1.0  -5960.975126          0.0  \n",
            "std                        NaN           NaN          NaN  \n",
            "min                        1.0  -5960.975126          0.0  \n",
            "25%                        1.0  -5960.975126          0.0  \n",
            "50%                        1.0  -5960.975126          0.0  \n",
            "75%                        1.0  -5960.975126          0.0  \n",
            "max                        1.0  -5960.975126          0.0  \n"
          ]
        }
      ]
    }
  ]
}